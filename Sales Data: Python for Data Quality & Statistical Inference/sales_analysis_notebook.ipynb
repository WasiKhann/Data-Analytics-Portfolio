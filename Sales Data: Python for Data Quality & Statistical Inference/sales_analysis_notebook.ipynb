{
 "cells": [
  {
   "cell_type": "code",
   "execution_count": 1,
   "metadata": {},
   "outputs": [],
   "source": [
    "#!pip install statsmodels\n",
    "#!pip install scipy"
   ]
  },
  {
   "cell_type": "code",
   "execution_count": 2,
   "metadata": {},
   "outputs": [],
   "source": [
    "#import the libraries\n",
    "import pandas as pd\n",
    "import numpy as np\n",
    "%matplotlib inline\n",
    "from scipy import stats\n",
    "import statsmodels.api as sm\n",
    "from statsmodels.formula.api import ols\n"
   ]
  },
  {
   "cell_type": "code",
   "execution_count": null,
   "metadata": {},
   "outputs": [],
   "source": [
    "# Read Sales.Dirty.xls\n",
    "salesdf = pd.read_excel('sales_data.xls')"
   ]
  },
  {
   "cell_type": "code",
   "execution_count": 4,
   "metadata": {},
   "outputs": [
    {
     "data": {
      "text/plain": [
       "Row ID                           int64\n",
       "Order ID                         int64\n",
       "Order Date              datetime64[ns]\n",
       "Order Priority                  object\n",
       "Order Quantity                   int64\n",
       "Sales                          float64\n",
       "Discount                       float64\n",
       "Ship Mode                       object\n",
       "Profit                         float64\n",
       "Unit Price                     float64\n",
       "Shipping Cost                  float64\n",
       "Customer Name                   object\n",
       "Province                        object\n",
       "Region                          object\n",
       "Customer Segment                object\n",
       "Product Category                object\n",
       "Product Sub-Category            object\n",
       "Product Name                    object\n",
       "Product Container               object\n",
       "Product Base Margin            float64\n",
       "Ship Date               datetime64[ns]\n",
       "dtype: object"
      ]
     },
     "execution_count": 4,
     "metadata": {},
     "output_type": "execute_result"
    }
   ],
   "source": [
    "salesdf.dtypes"
   ]
  },
  {
   "cell_type": "code",
   "execution_count": 5,
   "metadata": {},
   "outputs": [
    {
     "data": {
      "text/plain": [
       "(8399, 21)"
      ]
     },
     "execution_count": 5,
     "metadata": {},
     "output_type": "execute_result"
    }
   ],
   "source": [
    "salesdf.shape"
   ]
  },
  {
   "cell_type": "code",
   "execution_count": 6,
   "metadata": {},
   "outputs": [
    {
     "data": {
      "text/html": [
       "<div>\n",
       "<style scoped>\n",
       "    .dataframe tbody tr th:only-of-type {\n",
       "        vertical-align: middle;\n",
       "    }\n",
       "\n",
       "    .dataframe tbody tr th {\n",
       "        vertical-align: top;\n",
       "    }\n",
       "\n",
       "    .dataframe thead th {\n",
       "        text-align: right;\n",
       "    }\n",
       "</style>\n",
       "<table border=\"1\" class=\"dataframe\">\n",
       "  <thead>\n",
       "    <tr style=\"text-align: right;\">\n",
       "      <th></th>\n",
       "      <th>Row ID</th>\n",
       "      <th>Order ID</th>\n",
       "      <th>Order Date</th>\n",
       "      <th>Order Priority</th>\n",
       "      <th>Order Quantity</th>\n",
       "      <th>Sales</th>\n",
       "      <th>Discount</th>\n",
       "      <th>Ship Mode</th>\n",
       "      <th>Profit</th>\n",
       "      <th>Unit Price</th>\n",
       "      <th>...</th>\n",
       "      <th>Customer Name</th>\n",
       "      <th>Province</th>\n",
       "      <th>Region</th>\n",
       "      <th>Customer Segment</th>\n",
       "      <th>Product Category</th>\n",
       "      <th>Product Sub-Category</th>\n",
       "      <th>Product Name</th>\n",
       "      <th>Product Container</th>\n",
       "      <th>Product Base Margin</th>\n",
       "      <th>Ship Date</th>\n",
       "    </tr>\n",
       "  </thead>\n",
       "  <tbody>\n",
       "    <tr>\n",
       "      <th>0</th>\n",
       "      <td>1</td>\n",
       "      <td>3</td>\n",
       "      <td>2010-10-13</td>\n",
       "      <td>Low</td>\n",
       "      <td>6</td>\n",
       "      <td>261.5400</td>\n",
       "      <td>0.04</td>\n",
       "      <td>Regular Air</td>\n",
       "      <td>-213.2500</td>\n",
       "      <td>38.94</td>\n",
       "      <td>...</td>\n",
       "      <td>Muhammed MacIntyre</td>\n",
       "      <td>Nunavut</td>\n",
       "      <td>Nunavut</td>\n",
       "      <td>Small Business</td>\n",
       "      <td>Office Supplies</td>\n",
       "      <td>Storage &amp; Organization</td>\n",
       "      <td>Eldon Base for stackable storage shelf, platinum</td>\n",
       "      <td>Large Box</td>\n",
       "      <td>0.80</td>\n",
       "      <td>2010-10-20</td>\n",
       "    </tr>\n",
       "    <tr>\n",
       "      <th>1</th>\n",
       "      <td>49</td>\n",
       "      <td>293</td>\n",
       "      <td>2012-10-01</td>\n",
       "      <td>High</td>\n",
       "      <td>49</td>\n",
       "      <td>10123.0200</td>\n",
       "      <td>0.07</td>\n",
       "      <td>Delivery Truck</td>\n",
       "      <td>457.8100</td>\n",
       "      <td>208.16</td>\n",
       "      <td>...</td>\n",
       "      <td>Barry French</td>\n",
       "      <td>Nunavut</td>\n",
       "      <td>Nunavut</td>\n",
       "      <td>Consumer</td>\n",
       "      <td>Office Supplies</td>\n",
       "      <td>Appliances</td>\n",
       "      <td>1.7 Cubic Foot Compact \"Cube\" Office Refrigera...</td>\n",
       "      <td>Jumbo Drum</td>\n",
       "      <td>0.58</td>\n",
       "      <td>2012-10-02</td>\n",
       "    </tr>\n",
       "    <tr>\n",
       "      <th>2</th>\n",
       "      <td>50</td>\n",
       "      <td>293</td>\n",
       "      <td>2012-10-01</td>\n",
       "      <td>High</td>\n",
       "      <td>27</td>\n",
       "      <td>244.5700</td>\n",
       "      <td>0.01</td>\n",
       "      <td>Regular Air</td>\n",
       "      <td>46.7075</td>\n",
       "      <td>8.69</td>\n",
       "      <td>...</td>\n",
       "      <td>Barry French</td>\n",
       "      <td>Nunavut</td>\n",
       "      <td>Nunavut</td>\n",
       "      <td>Consumer</td>\n",
       "      <td>Office Supplies</td>\n",
       "      <td>Binders and Binder Accessories</td>\n",
       "      <td>Cardinal Slant-D® Ring Binder, Heavy Gauge Vinyl</td>\n",
       "      <td>Small Box</td>\n",
       "      <td>0.39</td>\n",
       "      <td>2012-10-03</td>\n",
       "    </tr>\n",
       "    <tr>\n",
       "      <th>3</th>\n",
       "      <td>80</td>\n",
       "      <td>483</td>\n",
       "      <td>2011-07-10</td>\n",
       "      <td>High</td>\n",
       "      <td>30</td>\n",
       "      <td>4965.7595</td>\n",
       "      <td>0.08</td>\n",
       "      <td>Regular Air</td>\n",
       "      <td>1198.9710</td>\n",
       "      <td>195.99</td>\n",
       "      <td>...</td>\n",
       "      <td>Clay Rozendal</td>\n",
       "      <td>Nunavut</td>\n",
       "      <td>Nunavut</td>\n",
       "      <td>Corporate</td>\n",
       "      <td>Technology</td>\n",
       "      <td>Telephones and Communication</td>\n",
       "      <td>R380</td>\n",
       "      <td>Small Box</td>\n",
       "      <td>0.58</td>\n",
       "      <td>2011-07-12</td>\n",
       "    </tr>\n",
       "    <tr>\n",
       "      <th>4</th>\n",
       "      <td>85</td>\n",
       "      <td>515</td>\n",
       "      <td>2010-08-28</td>\n",
       "      <td>Not Specified</td>\n",
       "      <td>19</td>\n",
       "      <td>394.2700</td>\n",
       "      <td>0.08</td>\n",
       "      <td>Regular Air</td>\n",
       "      <td>30.9400</td>\n",
       "      <td>21.78</td>\n",
       "      <td>...</td>\n",
       "      <td>Carlos Soltero</td>\n",
       "      <td>Nunavut</td>\n",
       "      <td>Nunavut</td>\n",
       "      <td>Consumer</td>\n",
       "      <td>Office Supplies</td>\n",
       "      <td>Appliances</td>\n",
       "      <td>Holmes HEPA Air Purifier</td>\n",
       "      <td>Medium Box</td>\n",
       "      <td>0.50</td>\n",
       "      <td>2010-08-30</td>\n",
       "    </tr>\n",
       "    <tr>\n",
       "      <th>5</th>\n",
       "      <td>86</td>\n",
       "      <td>515</td>\n",
       "      <td>2010-08-28</td>\n",
       "      <td>Not Specified</td>\n",
       "      <td>21</td>\n",
       "      <td>146.6900</td>\n",
       "      <td>0.05</td>\n",
       "      <td>Regular Air</td>\n",
       "      <td>4.4300</td>\n",
       "      <td>6.64</td>\n",
       "      <td>...</td>\n",
       "      <td>Carlos Soltero</td>\n",
       "      <td>Nunavut</td>\n",
       "      <td>Nunavut</td>\n",
       "      <td>Consumer</td>\n",
       "      <td>Furniture</td>\n",
       "      <td>Office Furnishings</td>\n",
       "      <td>G.E. Longer-Life Indoor Recessed Floodlight Bulbs</td>\n",
       "      <td>Small Pack</td>\n",
       "      <td>0.37</td>\n",
       "      <td>2010-08-30</td>\n",
       "    </tr>\n",
       "    <tr>\n",
       "      <th>6</th>\n",
       "      <td>97</td>\n",
       "      <td>613</td>\n",
       "      <td>2011-06-17</td>\n",
       "      <td>High</td>\n",
       "      <td>12</td>\n",
       "      <td>93.5400</td>\n",
       "      <td>0.03</td>\n",
       "      <td>Regular Air</td>\n",
       "      <td>-54.0385</td>\n",
       "      <td>7.30</td>\n",
       "      <td>...</td>\n",
       "      <td>Carl Jackson</td>\n",
       "      <td>Nunavut</td>\n",
       "      <td>Nunavut</td>\n",
       "      <td>Corporate</td>\n",
       "      <td>Office Supplies</td>\n",
       "      <td>Binders and Binder Accessories</td>\n",
       "      <td>Angle-D Binders with Locking Rings, Label Holders</td>\n",
       "      <td>Small Box</td>\n",
       "      <td>0.38</td>\n",
       "      <td>2011-06-17</td>\n",
       "    </tr>\n",
       "    <tr>\n",
       "      <th>7</th>\n",
       "      <td>98</td>\n",
       "      <td>613</td>\n",
       "      <td>2011-06-17</td>\n",
       "      <td>High</td>\n",
       "      <td>22</td>\n",
       "      <td>905.0800</td>\n",
       "      <td>0.09</td>\n",
       "      <td>Regular Air</td>\n",
       "      <td>127.7000</td>\n",
       "      <td>42.76</td>\n",
       "      <td>...</td>\n",
       "      <td>Carl Jackson</td>\n",
       "      <td>Nunavut</td>\n",
       "      <td>Nunavut</td>\n",
       "      <td>Corporate</td>\n",
       "      <td>Office Supplies</td>\n",
       "      <td>Storage &amp; Organization</td>\n",
       "      <td>SAFCO Mobile Desk Side File, Wire Frame</td>\n",
       "      <td>Small Box</td>\n",
       "      <td>NaN</td>\n",
       "      <td>2011-06-18</td>\n",
       "    </tr>\n",
       "    <tr>\n",
       "      <th>8</th>\n",
       "      <td>103</td>\n",
       "      <td>643</td>\n",
       "      <td>2011-03-24</td>\n",
       "      <td>High</td>\n",
       "      <td>21</td>\n",
       "      <td>2781.8200</td>\n",
       "      <td>0.07</td>\n",
       "      <td>Express Air</td>\n",
       "      <td>-695.2600</td>\n",
       "      <td>138.14</td>\n",
       "      <td>...</td>\n",
       "      <td>Monica Federle</td>\n",
       "      <td>Nunavut</td>\n",
       "      <td>Nunavut</td>\n",
       "      <td>Corporate</td>\n",
       "      <td>Office Supplies</td>\n",
       "      <td>Storage &amp; Organization</td>\n",
       "      <td>SAFCO Commercial Wire Shelving, Black</td>\n",
       "      <td>Large Box</td>\n",
       "      <td>NaN</td>\n",
       "      <td>2011-03-25</td>\n",
       "    </tr>\n",
       "    <tr>\n",
       "      <th>9</th>\n",
       "      <td>107</td>\n",
       "      <td>678</td>\n",
       "      <td>2010-02-26</td>\n",
       "      <td>Low</td>\n",
       "      <td>44</td>\n",
       "      <td>228.4100</td>\n",
       "      <td>0.07</td>\n",
       "      <td>Regular Air</td>\n",
       "      <td>-226.3600</td>\n",
       "      <td>4.98</td>\n",
       "      <td>...</td>\n",
       "      <td>Dorothy Badders</td>\n",
       "      <td>Nunavut</td>\n",
       "      <td>Nunavut</td>\n",
       "      <td>Home Office</td>\n",
       "      <td>Office Supplies</td>\n",
       "      <td>Paper</td>\n",
       "      <td>Xerox 198</td>\n",
       "      <td>Small Box</td>\n",
       "      <td>0.38</td>\n",
       "      <td>2010-02-26</td>\n",
       "    </tr>\n",
       "  </tbody>\n",
       "</table>\n",
       "<p>10 rows × 21 columns</p>\n",
       "</div>"
      ],
      "text/plain": [
       "   Row ID  Order ID Order Date Order Priority  Order Quantity       Sales  \\\n",
       "0       1         3 2010-10-13            Low               6    261.5400   \n",
       "1      49       293 2012-10-01           High              49  10123.0200   \n",
       "2      50       293 2012-10-01           High              27    244.5700   \n",
       "3      80       483 2011-07-10           High              30   4965.7595   \n",
       "4      85       515 2010-08-28  Not Specified              19    394.2700   \n",
       "5      86       515 2010-08-28  Not Specified              21    146.6900   \n",
       "6      97       613 2011-06-17           High              12     93.5400   \n",
       "7      98       613 2011-06-17           High              22    905.0800   \n",
       "8     103       643 2011-03-24           High              21   2781.8200   \n",
       "9     107       678 2010-02-26            Low              44    228.4100   \n",
       "\n",
       "   Discount       Ship Mode     Profit  Unit Price  ...       Customer Name  \\\n",
       "0      0.04     Regular Air  -213.2500       38.94  ...  Muhammed MacIntyre   \n",
       "1      0.07  Delivery Truck   457.8100      208.16  ...        Barry French   \n",
       "2      0.01     Regular Air    46.7075        8.69  ...        Barry French   \n",
       "3      0.08     Regular Air  1198.9710      195.99  ...       Clay Rozendal   \n",
       "4      0.08     Regular Air    30.9400       21.78  ...      Carlos Soltero   \n",
       "5      0.05     Regular Air     4.4300        6.64  ...      Carlos Soltero   \n",
       "6      0.03     Regular Air   -54.0385        7.30  ...        Carl Jackson   \n",
       "7      0.09     Regular Air   127.7000       42.76  ...        Carl Jackson   \n",
       "8      0.07     Express Air  -695.2600      138.14  ...      Monica Federle   \n",
       "9      0.07     Regular Air  -226.3600        4.98  ...     Dorothy Badders   \n",
       "\n",
       "  Province   Region Customer Segment Product Category  \\\n",
       "0  Nunavut  Nunavut   Small Business  Office Supplies   \n",
       "1  Nunavut  Nunavut         Consumer  Office Supplies   \n",
       "2  Nunavut  Nunavut         Consumer  Office Supplies   \n",
       "3  Nunavut  Nunavut        Corporate       Technology   \n",
       "4  Nunavut  Nunavut         Consumer  Office Supplies   \n",
       "5  Nunavut  Nunavut         Consumer        Furniture   \n",
       "6  Nunavut  Nunavut        Corporate  Office Supplies   \n",
       "7  Nunavut  Nunavut        Corporate  Office Supplies   \n",
       "8  Nunavut  Nunavut        Corporate  Office Supplies   \n",
       "9  Nunavut  Nunavut      Home Office  Office Supplies   \n",
       "\n",
       "             Product Sub-Category  \\\n",
       "0          Storage & Organization   \n",
       "1                      Appliances   \n",
       "2  Binders and Binder Accessories   \n",
       "3    Telephones and Communication   \n",
       "4                      Appliances   \n",
       "5              Office Furnishings   \n",
       "6  Binders and Binder Accessories   \n",
       "7          Storage & Organization   \n",
       "8          Storage & Organization   \n",
       "9                           Paper   \n",
       "\n",
       "                                        Product Name Product Container  \\\n",
       "0   Eldon Base for stackable storage shelf, platinum         Large Box   \n",
       "1  1.7 Cubic Foot Compact \"Cube\" Office Refrigera...        Jumbo Drum   \n",
       "2   Cardinal Slant-D® Ring Binder, Heavy Gauge Vinyl         Small Box   \n",
       "3                                               R380         Small Box   \n",
       "4                           Holmes HEPA Air Purifier        Medium Box   \n",
       "5  G.E. Longer-Life Indoor Recessed Floodlight Bulbs        Small Pack   \n",
       "6  Angle-D Binders with Locking Rings, Label Holders         Small Box   \n",
       "7            SAFCO Mobile Desk Side File, Wire Frame         Small Box   \n",
       "8              SAFCO Commercial Wire Shelving, Black         Large Box   \n",
       "9                                          Xerox 198         Small Box   \n",
       "\n",
       "  Product Base Margin  Ship Date  \n",
       "0                0.80 2010-10-20  \n",
       "1                0.58 2012-10-02  \n",
       "2                0.39 2012-10-03  \n",
       "3                0.58 2011-07-12  \n",
       "4                0.50 2010-08-30  \n",
       "5                0.37 2010-08-30  \n",
       "6                0.38 2011-06-17  \n",
       "7                 NaN 2011-06-18  \n",
       "8                 NaN 2011-03-25  \n",
       "9                0.38 2010-02-26  \n",
       "\n",
       "[10 rows x 21 columns]"
      ]
     },
     "execution_count": 6,
     "metadata": {},
     "output_type": "execute_result"
    }
   ],
   "source": [
    "salesdf.head(10)"
   ]
  },
  {
   "cell_type": "markdown",
   "metadata": {},
   "source": [
    "## Anova Tests"
   ]
  },
  {
   "cell_type": "code",
   "execution_count": 7,
   "metadata": {},
   "outputs": [
    {
     "name": "stdout",
     "output_type": "stream",
     "text": [
      "\n",
      "Anova => Sales - Order Priority\n"
     ]
    },
    {
     "data": {
      "text/html": [
       "<div>\n",
       "<style scoped>\n",
       "    .dataframe tbody tr th:only-of-type {\n",
       "        vertical-align: middle;\n",
       "    }\n",
       "\n",
       "    .dataframe tbody tr th {\n",
       "        vertical-align: top;\n",
       "    }\n",
       "\n",
       "    .dataframe thead th {\n",
       "        text-align: right;\n",
       "    }\n",
       "</style>\n",
       "<table border=\"1\" class=\"dataframe\">\n",
       "  <thead>\n",
       "    <tr style=\"text-align: right;\">\n",
       "      <th></th>\n",
       "      <th>sum_sq</th>\n",
       "      <th>df</th>\n",
       "      <th>F</th>\n",
       "      <th>PR(&gt;F)</th>\n",
       "    </tr>\n",
       "  </thead>\n",
       "  <tbody>\n",
       "    <tr>\n",
       "      <th>C(Q(\"Order Priority\"))</th>\n",
       "      <td>7.261269e+07</td>\n",
       "      <td>4.0</td>\n",
       "      <td>1.412692</td>\n",
       "      <td>0.226894</td>\n",
       "    </tr>\n",
       "    <tr>\n",
       "      <th>Residual</th>\n",
       "      <td>1.078634e+11</td>\n",
       "      <td>8394.0</td>\n",
       "      <td>NaN</td>\n",
       "      <td>NaN</td>\n",
       "    </tr>\n",
       "  </tbody>\n",
       "</table>\n",
       "</div>"
      ],
      "text/plain": [
       "                              sum_sq      df         F    PR(>F)\n",
       "C(Q(\"Order Priority\"))  7.261269e+07     4.0  1.412692  0.226894\n",
       "Residual                1.078634e+11  8394.0       NaN       NaN"
      ]
     },
     "metadata": {},
     "output_type": "display_data"
    }
   ],
   "source": [
    "model = ols('Profit ~ C(Q(\"Order Priority\"))', data=salesdf).fit()\n",
    "anova_table = sm.stats.anova_lm(model, typ=2)\n",
    "print (\"\\nAnova => Profit - Order Priority\")\n",
    "display(anova_table)"
   ]
  },
  {
   "cell_type": "markdown",
   "metadata": {},
   "source": [
    "Failed to reject null hypothesis, Order priority does not affect sales as there is no difference between their population means."
   ]
  },
  {
   "cell_type": "code",
   "execution_count": 31,
   "metadata": {},
   "outputs": [
    {
     "name": "stdout",
     "output_type": "stream",
     "text": [
      "\n",
      "Anova => Profit - Order Priority\n"
     ]
    },
    {
     "data": {
      "text/html": [
       "<div>\n",
       "<style scoped>\n",
       "    .dataframe tbody tr th:only-of-type {\n",
       "        vertical-align: middle;\n",
       "    }\n",
       "\n",
       "    .dataframe tbody tr th {\n",
       "        vertical-align: top;\n",
       "    }\n",
       "\n",
       "    .dataframe thead th {\n",
       "        text-align: right;\n",
       "    }\n",
       "</style>\n",
       "<table border=\"1\" class=\"dataframe\">\n",
       "  <thead>\n",
       "    <tr style=\"text-align: right;\">\n",
       "      <th></th>\n",
       "      <th>sum_sq</th>\n",
       "      <th>df</th>\n",
       "      <th>F</th>\n",
       "      <th>PR(&gt;F)</th>\n",
       "    </tr>\n",
       "  </thead>\n",
       "  <tbody>\n",
       "    <tr>\n",
       "      <th>C(Q(\"Order Priority\"))</th>\n",
       "      <td>1.966864e+07</td>\n",
       "      <td>4.0</td>\n",
       "      <td>3.437807</td>\n",
       "      <td>0.008167</td>\n",
       "    </tr>\n",
       "    <tr>\n",
       "      <th>Residual</th>\n",
       "      <td>1.200609e+10</td>\n",
       "      <td>8394.0</td>\n",
       "      <td>NaN</td>\n",
       "      <td>NaN</td>\n",
       "    </tr>\n",
       "  </tbody>\n",
       "</table>\n",
       "</div>"
      ],
      "text/plain": [
       "                              sum_sq      df         F    PR(>F)\n",
       "C(Q(\"Order Priority\"))  1.966864e+07     4.0  3.437807  0.008167\n",
       "Residual                1.200609e+10  8394.0       NaN       NaN"
      ]
     },
     "metadata": {},
     "output_type": "display_data"
    }
   ],
   "source": [
    "model = ols('Profit ~ C(Q(\"Order Priority\"))', data=salesdf).fit()\n",
    "anova_table = sm.stats.anova_lm(model, typ=2)\n",
    "print (\"\\nAnova => Profit - Order Priority\")\n",
    "display(anova_table)"
   ]
  },
  {
   "cell_type": "markdown",
   "metadata": {},
   "source": [
    "We reject the null hypothesis which means that Profits are affected by the order priority as there is a difference in Profit means."
   ]
  },
  {
   "cell_type": "code",
   "execution_count": 8,
   "metadata": {},
   "outputs": [
    {
     "name": "stdout",
     "output_type": "stream",
     "text": [
      "\n",
      "Anova => Sales - Ship Mode\n"
     ]
    },
    {
     "data": {
      "text/html": [
       "<div>\n",
       "<style scoped>\n",
       "    .dataframe tbody tr th:only-of-type {\n",
       "        vertical-align: middle;\n",
       "    }\n",
       "\n",
       "    .dataframe tbody tr th {\n",
       "        vertical-align: top;\n",
       "    }\n",
       "\n",
       "    .dataframe thead th {\n",
       "        text-align: right;\n",
       "    }\n",
       "</style>\n",
       "<table border=\"1\" class=\"dataframe\">\n",
       "  <thead>\n",
       "    <tr style=\"text-align: right;\">\n",
       "      <th></th>\n",
       "      <th>sum_sq</th>\n",
       "      <th>df</th>\n",
       "      <th>F</th>\n",
       "      <th>PR(&gt;F)</th>\n",
       "    </tr>\n",
       "  </thead>\n",
       "  <tbody>\n",
       "    <tr>\n",
       "      <th>C(Q(\"Ship Mode\"))</th>\n",
       "      <td>1.773769e+10</td>\n",
       "      <td>2.0</td>\n",
       "      <td>825.545281</td>\n",
       "      <td>0.0</td>\n",
       "    </tr>\n",
       "    <tr>\n",
       "      <th>Residual</th>\n",
       "      <td>9.019834e+10</td>\n",
       "      <td>8396.0</td>\n",
       "      <td>NaN</td>\n",
       "      <td>NaN</td>\n",
       "    </tr>\n",
       "  </tbody>\n",
       "</table>\n",
       "</div>"
      ],
      "text/plain": [
       "                         sum_sq      df           F  PR(>F)\n",
       "C(Q(\"Ship Mode\"))  1.773769e+10     2.0  825.545281     0.0\n",
       "Residual           9.019834e+10  8396.0         NaN     NaN"
      ]
     },
     "metadata": {},
     "output_type": "display_data"
    }
   ],
   "source": [
    "model = ols('Sales ~ C(Q(\"Ship Mode\"))', data=salesdf).fit()\n",
    "anova_table = sm.stats.anova_lm(model, typ=2)\n",
    "print (\"\\nAnova => Sales - Ship Mode\")\n",
    "display(anova_table)"
   ]
  },
  {
   "cell_type": "markdown",
   "metadata": {},
   "source": [
    "We reject the null hypothesis which means that sales are affected by the ship mode as there is a difference in sales and ship modes' population means."
   ]
  },
  {
   "cell_type": "code",
   "execution_count": 9,
   "metadata": {},
   "outputs": [
    {
     "name": "stdout",
     "output_type": "stream",
     "text": [
      "\n",
      "Anova => Sales - Region\n"
     ]
    },
    {
     "data": {
      "text/html": [
       "<div>\n",
       "<style scoped>\n",
       "    .dataframe tbody tr th:only-of-type {\n",
       "        vertical-align: middle;\n",
       "    }\n",
       "\n",
       "    .dataframe tbody tr th {\n",
       "        vertical-align: top;\n",
       "    }\n",
       "\n",
       "    .dataframe thead th {\n",
       "        text-align: right;\n",
       "    }\n",
       "</style>\n",
       "<table border=\"1\" class=\"dataframe\">\n",
       "  <thead>\n",
       "    <tr style=\"text-align: right;\">\n",
       "      <th></th>\n",
       "      <th>sum_sq</th>\n",
       "      <th>df</th>\n",
       "      <th>F</th>\n",
       "      <th>PR(&gt;F)</th>\n",
       "    </tr>\n",
       "  </thead>\n",
       "  <tbody>\n",
       "    <tr>\n",
       "      <th>C(Q(\"Region\"))</th>\n",
       "      <td>1.028260e+08</td>\n",
       "      <td>7.0</td>\n",
       "      <td>1.143053</td>\n",
       "      <td>0.332599</td>\n",
       "    </tr>\n",
       "    <tr>\n",
       "      <th>Residual</th>\n",
       "      <td>1.078332e+11</td>\n",
       "      <td>8391.0</td>\n",
       "      <td>NaN</td>\n",
       "      <td>NaN</td>\n",
       "    </tr>\n",
       "  </tbody>\n",
       "</table>\n",
       "</div>"
      ],
      "text/plain": [
       "                      sum_sq      df         F    PR(>F)\n",
       "C(Q(\"Region\"))  1.028260e+08     7.0  1.143053  0.332599\n",
       "Residual        1.078332e+11  8391.0       NaN       NaN"
      ]
     },
     "metadata": {},
     "output_type": "display_data"
    }
   ],
   "source": [
    "model = ols('Sales ~ C(Q(\"Region\"))', data=salesdf).fit()\n",
    "anova_table = sm.stats.anova_lm(model, typ=2)\n",
    "print (\"\\nAnova => Sales - Region\")\n",
    "display(anova_table)"
   ]
  },
  {
   "cell_type": "markdown",
   "metadata": {},
   "source": [
    "We fail to reject the null hypothesis which means that sales are not affected by the regions as there is no difference in sales and regions' population means."
   ]
  },
  {
   "cell_type": "code",
   "execution_count": 10,
   "metadata": {},
   "outputs": [
    {
     "name": "stdout",
     "output_type": "stream",
     "text": [
      "\n",
      "Anova => Sales - Province\n"
     ]
    },
    {
     "data": {
      "text/html": [
       "<div>\n",
       "<style scoped>\n",
       "    .dataframe tbody tr th:only-of-type {\n",
       "        vertical-align: middle;\n",
       "    }\n",
       "\n",
       "    .dataframe tbody tr th {\n",
       "        vertical-align: top;\n",
       "    }\n",
       "\n",
       "    .dataframe thead th {\n",
       "        text-align: right;\n",
       "    }\n",
       "</style>\n",
       "<table border=\"1\" class=\"dataframe\">\n",
       "  <thead>\n",
       "    <tr style=\"text-align: right;\">\n",
       "      <th></th>\n",
       "      <th>sum_sq</th>\n",
       "      <th>df</th>\n",
       "      <th>F</th>\n",
       "      <th>PR(&gt;F)</th>\n",
       "    </tr>\n",
       "  </thead>\n",
       "  <tbody>\n",
       "    <tr>\n",
       "      <th>C(Q(\"Province\"))</th>\n",
       "      <td>2.081083e+08</td>\n",
       "      <td>12.0</td>\n",
       "      <td>1.350003</td>\n",
       "      <td>0.182509</td>\n",
       "    </tr>\n",
       "    <tr>\n",
       "      <th>Residual</th>\n",
       "      <td>1.077279e+11</td>\n",
       "      <td>8386.0</td>\n",
       "      <td>NaN</td>\n",
       "      <td>NaN</td>\n",
       "    </tr>\n",
       "  </tbody>\n",
       "</table>\n",
       "</div>"
      ],
      "text/plain": [
       "                        sum_sq      df         F    PR(>F)\n",
       "C(Q(\"Province\"))  2.081083e+08    12.0  1.350003  0.182509\n",
       "Residual          1.077279e+11  8386.0       NaN       NaN"
      ]
     },
     "metadata": {},
     "output_type": "display_data"
    }
   ],
   "source": [
    "model = ols('Sales ~ C(Q(\"Province\"))', data=salesdf).fit()\n",
    "anova_table = sm.stats.anova_lm(model, typ=2)\n",
    "print (\"\\nAnova => Sales - Province\")\n",
    "display(anova_table)"
   ]
  },
  {
   "cell_type": "markdown",
   "metadata": {},
   "source": [
    "We fail to reject the null hypothesis which means that sales are not affected by the province as there is no difference in sales and province' population means."
   ]
  },
  {
   "cell_type": "code",
   "execution_count": 11,
   "metadata": {},
   "outputs": [
    {
     "name": "stdout",
     "output_type": "stream",
     "text": [
      "\n",
      "Anova => Sales - Customer Segment\n"
     ]
    },
    {
     "data": {
      "text/html": [
       "<div>\n",
       "<style scoped>\n",
       "    .dataframe tbody tr th:only-of-type {\n",
       "        vertical-align: middle;\n",
       "    }\n",
       "\n",
       "    .dataframe tbody tr th {\n",
       "        vertical-align: top;\n",
       "    }\n",
       "\n",
       "    .dataframe thead th {\n",
       "        text-align: right;\n",
       "    }\n",
       "</style>\n",
       "<table border=\"1\" class=\"dataframe\">\n",
       "  <thead>\n",
       "    <tr style=\"text-align: right;\">\n",
       "      <th></th>\n",
       "      <th>sum_sq</th>\n",
       "      <th>df</th>\n",
       "      <th>F</th>\n",
       "      <th>PR(&gt;F)</th>\n",
       "    </tr>\n",
       "  </thead>\n",
       "  <tbody>\n",
       "    <tr>\n",
       "      <th>C(Q(\"Customer Segment\"))</th>\n",
       "      <td>2.238326e+07</td>\n",
       "      <td>3.0</td>\n",
       "      <td>0.580425</td>\n",
       "      <td>0.627813</td>\n",
       "    </tr>\n",
       "    <tr>\n",
       "      <th>Residual</th>\n",
       "      <td>1.079136e+11</td>\n",
       "      <td>8395.0</td>\n",
       "      <td>NaN</td>\n",
       "      <td>NaN</td>\n",
       "    </tr>\n",
       "  </tbody>\n",
       "</table>\n",
       "</div>"
      ],
      "text/plain": [
       "                                sum_sq      df         F    PR(>F)\n",
       "C(Q(\"Customer Segment\"))  2.238326e+07     3.0  0.580425  0.627813\n",
       "Residual                  1.079136e+11  8395.0       NaN       NaN"
      ]
     },
     "metadata": {},
     "output_type": "display_data"
    }
   ],
   "source": [
    "model = ols('Sales ~ C(Q(\"Customer Segment\"))', data=salesdf).fit()\n",
    "anova_table = sm.stats.anova_lm(model, typ=2)\n",
    "print (\"\\nAnova => Sales - Customer Segment\")\n",
    "display(anova_table)"
   ]
  },
  {
   "cell_type": "markdown",
   "metadata": {},
   "source": [
    "We fail to reject the null hypothesis which means that sales are not affected by the customer segment as there is no difference in sales and customer segment' population means."
   ]
  },
  {
   "cell_type": "code",
   "execution_count": 12,
   "metadata": {},
   "outputs": [
    {
     "name": "stdout",
     "output_type": "stream",
     "text": [
      "\n",
      "Anova => Sales - Product Category\n"
     ]
    },
    {
     "data": {
      "text/html": [
       "<div>\n",
       "<style scoped>\n",
       "    .dataframe tbody tr th:only-of-type {\n",
       "        vertical-align: middle;\n",
       "    }\n",
       "\n",
       "    .dataframe tbody tr th {\n",
       "        vertical-align: top;\n",
       "    }\n",
       "\n",
       "    .dataframe thead th {\n",
       "        text-align: right;\n",
       "    }\n",
       "</style>\n",
       "<table border=\"1\" class=\"dataframe\">\n",
       "  <thead>\n",
       "    <tr style=\"text-align: right;\">\n",
       "      <th></th>\n",
       "      <th>sum_sq</th>\n",
       "      <th>df</th>\n",
       "      <th>F</th>\n",
       "      <th>PR(&gt;F)</th>\n",
       "    </tr>\n",
       "  </thead>\n",
       "  <tbody>\n",
       "    <tr>\n",
       "      <th>C(Q(\"Product Category\"))</th>\n",
       "      <td>9.464206e+09</td>\n",
       "      <td>2.0</td>\n",
       "      <td>403.473146</td>\n",
       "      <td>4.908931e-168</td>\n",
       "    </tr>\n",
       "    <tr>\n",
       "      <th>Residual</th>\n",
       "      <td>9.847182e+10</td>\n",
       "      <td>8396.0</td>\n",
       "      <td>NaN</td>\n",
       "      <td>NaN</td>\n",
       "    </tr>\n",
       "  </tbody>\n",
       "</table>\n",
       "</div>"
      ],
      "text/plain": [
       "                                sum_sq      df           F         PR(>F)\n",
       "C(Q(\"Product Category\"))  9.464206e+09     2.0  403.473146  4.908931e-168\n",
       "Residual                  9.847182e+10  8396.0         NaN            NaN"
      ]
     },
     "metadata": {},
     "output_type": "display_data"
    }
   ],
   "source": [
    "model = ols('Sales ~ C(Q(\"Product Category\"))', data=salesdf).fit()\n",
    "anova_table = sm.stats.anova_lm(model, typ=2)\n",
    "print (\"\\nAnova => Sales - Product Category\")\n",
    "display(anova_table)"
   ]
  },
  {
   "cell_type": "markdown",
   "metadata": {},
   "source": [
    "We reject the null hypothesis which means that sales are affected by the category as there is a difference in sales and product category' population means."
   ]
  },
  {
   "cell_type": "code",
   "execution_count": 13,
   "metadata": {},
   "outputs": [
    {
     "name": "stdout",
     "output_type": "stream",
     "text": [
      "\n",
      "Anova => Sales - Product Sub-Category\n"
     ]
    },
    {
     "data": {
      "text/html": [
       "<div>\n",
       "<style scoped>\n",
       "    .dataframe tbody tr th:only-of-type {\n",
       "        vertical-align: middle;\n",
       "    }\n",
       "\n",
       "    .dataframe tbody tr th {\n",
       "        vertical-align: top;\n",
       "    }\n",
       "\n",
       "    .dataframe thead th {\n",
       "        text-align: right;\n",
       "    }\n",
       "</style>\n",
       "<table border=\"1\" class=\"dataframe\">\n",
       "  <thead>\n",
       "    <tr style=\"text-align: right;\">\n",
       "      <th></th>\n",
       "      <th>sum_sq</th>\n",
       "      <th>df</th>\n",
       "      <th>F</th>\n",
       "      <th>PR(&gt;F)</th>\n",
       "    </tr>\n",
       "  </thead>\n",
       "  <tbody>\n",
       "    <tr>\n",
       "      <th>C(Q(\"Product Sub-Category\"))</th>\n",
       "      <td>3.410615e+10</td>\n",
       "      <td>16.0</td>\n",
       "      <td>242.00718</td>\n",
       "      <td>0.0</td>\n",
       "    </tr>\n",
       "    <tr>\n",
       "      <th>Residual</th>\n",
       "      <td>7.382988e+10</td>\n",
       "      <td>8382.0</td>\n",
       "      <td>NaN</td>\n",
       "      <td>NaN</td>\n",
       "    </tr>\n",
       "  </tbody>\n",
       "</table>\n",
       "</div>"
      ],
      "text/plain": [
       "                                    sum_sq      df          F  PR(>F)\n",
       "C(Q(\"Product Sub-Category\"))  3.410615e+10    16.0  242.00718     0.0\n",
       "Residual                      7.382988e+10  8382.0        NaN     NaN"
      ]
     },
     "metadata": {},
     "output_type": "display_data"
    }
   ],
   "source": [
    "model = ols('Sales ~ C(Q(\"Product Sub-Category\"))', data=salesdf).fit()\n",
    "anova_table = sm.stats.anova_lm(model, typ=2)\n",
    "print (\"\\nAnova => Sales - Product Sub-Category\")\n",
    "display(anova_table)"
   ]
  },
  {
   "cell_type": "markdown",
   "metadata": {},
   "source": [
    "We  to reject the null hypothesis which means that sales are  affected by the product subcategory as there is a difference in sales and productsub category population means."
   ]
  },
  {
   "cell_type": "code",
   "execution_count": 14,
   "metadata": {},
   "outputs": [
    {
     "name": "stdout",
     "output_type": "stream",
     "text": [
      "\n",
      "Anova => Sales - Product Container\n"
     ]
    },
    {
     "data": {
      "text/html": [
       "<div>\n",
       "<style scoped>\n",
       "    .dataframe tbody tr th:only-of-type {\n",
       "        vertical-align: middle;\n",
       "    }\n",
       "\n",
       "    .dataframe tbody tr th {\n",
       "        vertical-align: top;\n",
       "    }\n",
       "\n",
       "    .dataframe thead th {\n",
       "        text-align: right;\n",
       "    }\n",
       "</style>\n",
       "<table border=\"1\" class=\"dataframe\">\n",
       "  <thead>\n",
       "    <tr style=\"text-align: right;\">\n",
       "      <th></th>\n",
       "      <th>sum_sq</th>\n",
       "      <th>df</th>\n",
       "      <th>F</th>\n",
       "      <th>PR(&gt;F)</th>\n",
       "    </tr>\n",
       "  </thead>\n",
       "  <tbody>\n",
       "    <tr>\n",
       "      <th>C(Q(\"Product Container\"))</th>\n",
       "      <td>2.530821e+10</td>\n",
       "      <td>6.0</td>\n",
       "      <td>428.399995</td>\n",
       "      <td>0.0</td>\n",
       "    </tr>\n",
       "    <tr>\n",
       "      <th>Residual</th>\n",
       "      <td>8.262781e+10</td>\n",
       "      <td>8392.0</td>\n",
       "      <td>NaN</td>\n",
       "      <td>NaN</td>\n",
       "    </tr>\n",
       "  </tbody>\n",
       "</table>\n",
       "</div>"
      ],
      "text/plain": [
       "                                 sum_sq      df           F  PR(>F)\n",
       "C(Q(\"Product Container\"))  2.530821e+10     6.0  428.399995     0.0\n",
       "Residual                   8.262781e+10  8392.0         NaN     NaN"
      ]
     },
     "metadata": {},
     "output_type": "display_data"
    }
   ],
   "source": [
    "model = ols('Sales ~ C(Q(\"Product Container\"))', data=salesdf).fit()\n",
    "anova_table = sm.stats.anova_lm(model, typ=2)\n",
    "print (\"\\nAnova => Sales - Product Container\")\n",
    "display(anova_table)"
   ]
  },
  {
   "cell_type": "markdown",
   "metadata": {},
   "source": [
    "We reject the null hypothesis which means that sales are affected by the product container as there is a difference in sales and product container' population means."
   ]
  },
  {
   "cell_type": "markdown",
   "metadata": {},
   "source": [
    "## Tukey Tests"
   ]
  },
  {
   "cell_type": "code",
   "execution_count": 15,
   "metadata": {},
   "outputs": [
    {
     "data": {
      "text/plain": [
       "array(['Regular Air', 'Delivery Truck', 'Express Air'], dtype=object)"
      ]
     },
     "execution_count": 15,
     "metadata": {},
     "output_type": "execute_result"
    }
   ],
   "source": [
    "salesdf['Ship Mode'].unique()"
   ]
  },
  {
   "cell_type": "code",
   "execution_count": 16,
   "metadata": {},
   "outputs": [
    {
     "name": "stdout",
     "output_type": "stream",
     "text": [
      "           Multiple Comparison of Means - Tukey HSD, FWER=0.05           \n",
      "=========================================================================\n",
      "    group1        group2    meandiff  p-adj    lower      upper    reject\n",
      "-------------------------------------------------------------------------\n",
      "Delivery Truck Express Air -4226.9291    0.0 -4560.9404 -3892.9178   True\n",
      "Delivery Truck Regular Air -4234.6538    0.0 -4481.4856  -3987.822   True\n",
      "   Express Air Regular Air    -7.7247 0.9974  -271.2915   255.8421  False\n",
      "-------------------------------------------------------------------------\n"
     ]
    }
   ],
   "source": [
    "from statsmodels.stats.multicomp import pairwise_tukeyhsd\n",
    "\n",
    "tukey = pairwise_tukeyhsd(endog=salesdf['Sales'],\n",
    "                          groups=salesdf['Ship Mode'],\n",
    "                          alpha=0.05)\n",
    "\n",
    "#display results\n",
    "print(tukey)"
   ]
  },
  {
   "cell_type": "markdown",
   "metadata": {},
   "source": [
    "row 1 and row 2 we reject there is a significant difference in means"
   ]
  },
  {
   "cell_type": "code",
   "execution_count": 17,
   "metadata": {},
   "outputs": [
    {
     "data": {
      "text/plain": [
       "array(['Office Supplies', 'Technology', 'Furniture'], dtype=object)"
      ]
     },
     "execution_count": 17,
     "metadata": {},
     "output_type": "execute_result"
    }
   ],
   "source": [
    "salesdf['Product Category'].unique()"
   ]
  },
  {
   "cell_type": "code",
   "execution_count": 18,
   "metadata": {},
   "outputs": [
    {
     "name": "stdout",
     "output_type": "stream",
     "text": [
      "             Multiple Comparison of Means - Tukey HSD, FWER=0.05              \n",
      "==============================================================================\n",
      "     group1          group2      meandiff  p-adj    lower      upper    reject\n",
      "------------------------------------------------------------------------------\n",
      "      Furniture Office Supplies -2189.7746    0.0 -2416.4055 -1963.1438   True\n",
      "      Furniture      Technology  -105.8818 0.6101  -367.7801   156.0165  False\n",
      "Office Supplies      Technology  2083.8928    0.0  1871.3168  2296.4688   True\n",
      "------------------------------------------------------------------------------\n"
     ]
    }
   ],
   "source": [
    "tukey = pairwise_tukeyhsd(endog=salesdf['Sales'],\n",
    "                          groups=salesdf['Product Category'],\n",
    "                          alpha=0.05)\n",
    "\n",
    "#display results\n",
    "print(tukey)"
   ]
  },
  {
   "cell_type": "markdown",
   "metadata": {},
   "source": [
    "row 1 and row 3 we reject there is a significant difference in means"
   ]
  },
  {
   "cell_type": "code",
   "execution_count": 19,
   "metadata": {},
   "outputs": [
    {
     "data": {
      "text/plain": [
       "array(['Storage & Organization', 'Appliances',\n",
       "       'Binders and Binder Accessories', 'Telephones and Communication',\n",
       "       'Office Furnishings', 'Paper', 'Rubber Bands',\n",
       "       'Computer Peripherals', 'Envelopes', 'Bookcases', 'Tables',\n",
       "       'Labels', 'Pens & Art Supplies', 'Copiers and Fax',\n",
       "       'Chairs & Chairmats', 'Scissors, Rulers and Trimmers',\n",
       "       'Office Machines'], dtype=object)"
      ]
     },
     "execution_count": 19,
     "metadata": {},
     "output_type": "execute_result"
    }
   ],
   "source": [
    "salesdf['Product Sub-Category'].unique()"
   ]
  },
  {
   "cell_type": "code",
   "execution_count": 20,
   "metadata": {},
   "outputs": [
    {
     "data": {
      "text/plain": [
       "17"
      ]
     },
     "execution_count": 20,
     "metadata": {},
     "output_type": "execute_result"
    }
   ],
   "source": [
    "salesdf['Product Sub-Category'].nunique()"
   ]
  },
  {
   "cell_type": "code",
   "execution_count": 21,
   "metadata": {},
   "outputs": [
    {
     "name": "stdout",
     "output_type": "stream",
     "text": [
      "                              Multiple Comparison of Means - Tukey HSD, FWER=0.05                              \n",
      "===============================================================================================================\n",
      "            group1                         group2               meandiff  p-adj     lower       upper    reject\n",
      "---------------------------------------------------------------------------------------------------------------\n",
      "                    Appliances Binders and Binder Accessories   -580.1508 0.0695  -1178.5716     18.2701  False\n",
      "                    Appliances                      Bookcases   2654.5191    0.0   1759.7223   3549.3159   True\n",
      "                    Appliances             Chairs & Chairmats   2866.2062    0.0   2147.8752   3584.5372   True\n",
      "                    Appliances           Computer Peripherals   -648.1689 0.0285  -1266.2064    -30.1314   True\n",
      "                    Appliances                Copiers and Fax  11294.5214    0.0  10088.4569   12500.586   True\n",
      "                    Appliances                      Envelopes   -990.4713 0.0034  -1809.8756   -171.0671   True\n",
      "                    Appliances                         Labels  -1562.7846    0.0  -2343.1242   -782.4449   True\n",
      "                    Appliances             Office Furnishings   -812.2313 0.0006  -1425.9705   -198.4922   True\n",
      "                    Appliances                Office Machines   4737.1659    0.0   3991.7073   5482.6245   True\n",
      "                    Appliances                          Paper  -1333.6859    0.0  -1907.2295   -760.1422   True\n",
      "                    Appliances            Pens & Art Supplies  -1434.1447    0.0  -2074.0146   -794.2749   True\n",
      "                    Appliances                   Rubber Bands  -1614.3013    0.0  -2526.3437   -702.2589   True\n",
      "                    Appliances  Scissors, Rulers and Trimmers  -1135.6628 0.0078  -2123.0648   -148.2609   True\n",
      "                    Appliances         Storage & Organization    261.9042 0.9951   -398.3756     922.184  False\n",
      "                    Appliances                         Tables   3553.9629    0.0    2822.586   4285.3399   True\n",
      "                    Appliances   Telephones and Communication     441.516 0.4729   -160.3833   1043.4154  False\n",
      "Binders and Binder Accessories                      Bookcases   3234.6699    0.0   2414.3197     4055.02   True\n",
      "Binders and Binder Accessories             Chairs & Chairmats    3446.357    0.0   2823.2098   4069.5041   True\n",
      "Binders and Binder Accessories           Computer Peripherals    -68.0182    1.0   -572.2834     436.247  False\n",
      "Binders and Binder Accessories                Copiers and Fax  11874.6722    0.0  10722.7587  13026.5857   True\n",
      "Binders and Binder Accessories                      Envelopes   -410.3206 0.8851  -1147.7054    327.0642  False\n",
      "Binders and Binder Accessories                         Labels   -982.6338 0.0001  -1676.3506   -288.9171   True\n",
      "Binders and Binder Accessories             Office Furnishings   -232.0806 0.9748   -731.0683    266.9071  False\n",
      "Binders and Binder Accessories                Office Machines   5317.3166    0.0    4663.083   5971.5502   True\n",
      "Binders and Binder Accessories                          Paper   -753.5351    0.0  -1202.1612   -304.9091   True\n",
      "Binders and Binder Accessories            Pens & Art Supplies    -853.994    0.0   -1384.792    -323.196   True\n",
      "Binders and Binder Accessories                   Rubber Bands  -1034.1505 0.0024  -1873.2777   -195.0234   True\n",
      "Binders and Binder Accessories  Scissors, Rulers and Trimmers   -555.5121 0.7999  -1475.9878    364.9637  False\n",
      "Binders and Binder Accessories         Storage & Organization     842.055    0.0     286.823   1397.2869   True\n",
      "Binders and Binder Accessories                         Tables   4134.1137    0.0   3495.9716   4772.2557   True\n",
      "Binders and Binder Accessories   Telephones and Communication   1021.6668    0.0    537.3159   1506.0177   True\n",
      "                     Bookcases             Chairs & Chairmats    211.6871    1.0   -699.8315   1123.2057  False\n",
      "                     Bookcases           Computer Peripherals   -3302.688    0.0  -4137.4558  -2467.9203   True\n",
      "                     Bookcases                Copiers and Fax   8640.0023    0.0   7309.7924   9970.2123   True\n",
      "                     Bookcases                      Envelopes  -3644.9904    0.0  -4638.1119   -2651.869   True\n",
      "                     Bookcases                         Labels  -4217.3037    0.0  -5178.4472  -3256.1602   True\n",
      "                     Bookcases             Office Furnishings  -3466.7504    0.0  -4298.3408  -2635.1601   True\n",
      "                     Bookcases                Office Machines   2082.6468    0.0   1149.6005   3015.6931   True\n",
      "                     Bookcases                          Paper   -3988.205    0.0  -4790.5884  -3185.8216   True\n",
      "                     Bookcases            Pens & Art Supplies  -4088.6638    0.0  -4939.7222  -3237.6055   True\n",
      "                     Bookcases                   Rubber Bands  -4268.8204    0.0  -5339.6557  -3197.9851   True\n",
      "                     Bookcases  Scissors, Rulers and Trimmers  -3790.1819    0.0  -4925.8885  -2654.4753   True\n",
      "                     Bookcases         Storage & Organization  -2392.6149    0.0   -3259.123  -1526.1068   True\n",
      "                     Bookcases                         Tables    899.4438 0.0651    -22.3908   1821.2785  False\n",
      "                     Bookcases   Telephones and Communication  -2213.0031    0.0  -3035.8941  -1390.1121   True\n",
      "            Chairs & Chairmats           Computer Peripherals  -3514.3751    0.0  -4156.3839  -2872.3664   True\n",
      "            Chairs & Chairmats                Copiers and Fax   8428.3152    0.0    7209.793   9646.8375   True\n",
      "            Chairs & Chairmats                      Envelopes  -3856.6775    0.0    -4694.31  -3019.0451   True\n",
      "            Chairs & Chairmats                         Labels  -4428.9908    0.0  -5228.4499  -3629.5317   True\n",
      "            Chairs & Chairmats             Office Furnishings  -3678.4375    0.0  -4316.3094  -3040.5657   True\n",
      "            Chairs & Chairmats                Office Machines   1870.9597    0.0   1105.5099   2636.4095   True\n",
      "            Chairs & Chairmats                          Paper  -4199.8921    0.0  -4799.1893  -3600.5949   True\n",
      "            Chairs & Chairmats            Pens & Art Supplies  -4300.3509    0.0  -4963.4032  -3637.2987   True\n",
      "            Chairs & Chairmats                   Rubber Bands  -4480.5075    0.0  -5408.9611  -3552.0538   True\n",
      "            Chairs & Chairmats  Scissors, Rulers and Trimmers   -4001.869    0.0  -5004.4494  -2999.2886   True\n",
      "            Chairs & Chairmats         Storage & Organization   -2604.302    0.0  -3287.0716  -1921.5324   True\n",
      "            Chairs & Chairmats                         Tables    687.7567 0.1201     -63.986   1439.4994  False\n",
      "            Chairs & Chairmats   Telephones and Communication  -2424.6902    0.0  -3051.1785  -1798.2018   True\n",
      "          Computer Peripherals                Copiers and Fax  11942.6904    0.0  10780.4651  13104.9156   True\n",
      "          Computer Peripherals                      Envelopes   -342.3024 0.9799  -1095.6942    411.0894  False\n",
      "          Computer Peripherals                         Labels   -914.6157 0.0011  -1625.3236   -203.9077   True\n",
      "          Computer Peripherals             Office Furnishings   -164.0624 0.9997   -686.4143    358.2895  False\n",
      "          Computer Peripherals                Office Machines   5385.3348    0.0   4713.1113   6057.5583   True\n",
      "          Computer Peripherals                          Paper   -685.5169 0.0001  -1159.9936   -211.0402   True\n",
      "          Computer Peripherals            Pens & Art Supplies   -785.9758 0.0001  -1338.7952   -233.1564   True\n",
      "          Computer Peripherals                   Rubber Bands   -966.1323 0.0099  -1819.3599   -112.9048   True\n",
      "          Computer Peripherals  Scissors, Rulers and Trimmers   -487.4939 0.9297  -1420.8419    445.8541  False\n",
      "          Computer Peripherals         Storage & Organization    910.0731    0.0    333.7527   1486.3936   True\n",
      "          Computer Peripherals                         Tables   4202.1319    0.0   3545.5589   4858.7049   True\n",
      "          Computer Peripherals   Telephones and Communication    1089.685    0.0    581.2967   1598.0732   True\n",
      "               Copiers and Fax                      Envelopes -12284.9928    0.0 -13565.7037 -11004.2818   True\n",
      "               Copiers and Fax                         Labels  -12857.306    0.0 -14113.3821 -11601.2299   True\n",
      "               Copiers and Fax             Office Furnishings -12106.7528    0.0  -13266.698 -10946.8076   True\n",
      "               Copiers and Fax                Office Machines  -6557.3555    0.0  -7792.0643  -5322.6468   True\n",
      "               Copiers and Fax                          Paper -12628.2073    0.0 -13767.3954 -11489.0192   True\n",
      "               Copiers and Fax            Pens & Art Supplies -12728.6662    0.0 -13902.6468 -11554.6855   True\n",
      "               Copiers and Fax                   Rubber Bands -12908.8227    0.0  -14250.694 -11566.9514   True\n",
      "               Copiers and Fax  Scissors, Rulers and Trimmers -12430.1842    0.0 -13824.3721 -11035.9964   True\n",
      "               Copiers and Fax         Storage & Organization -11032.6172    0.0 -12217.8457  -9847.3887   True\n",
      "               Copiers and Fax                         Tables  -7740.5585    0.0  -8966.8168  -6514.3002   True\n",
      "               Copiers and Fax   Telephones and Communication -10853.0054    0.0 -12006.7298   -9699.281   True\n",
      "                     Envelopes                         Labels   -572.3132 0.7121  -1463.6935     319.067  False\n",
      "                     Envelopes             Office Furnishings      178.24    1.0   -571.6297    928.1097  False\n",
      "                     Envelopes                Office Machines   5727.6372    0.0   4866.6277   6588.6467   True\n",
      "                     Envelopes                          Paper   -343.2145 0.9672  -1060.5576    374.1285  False\n",
      "                     Envelopes            Pens & Art Supplies   -443.6734 0.8545  -1215.0762    327.7294  False\n",
      "                     Envelopes                   Rubber Bands   -623.8299 0.7675  -1632.5173    384.8574  False\n",
      "                     Envelopes  Scissors, Rulers and Trimmers   -145.1915    1.0   -1222.499     932.116  False\n",
      "                     Envelopes         Storage & Organization   1252.3755    0.0    463.9605   2040.7906   True\n",
      "                     Envelopes                         Tables   4544.4343    0.0   3695.5874   5393.2812   True\n",
      "                     Envelopes   Telephones and Communication   1431.9874    0.0    691.7769   2172.1979   True\n",
      "                        Labels             Office Furnishings    750.5532 0.0244       43.58   1457.5265   True\n",
      "                        Labels                Office Machines   6299.9505    0.0   5476.0306   7123.8704   True\n",
      "                        Labels                          Paper    229.0987 0.9992    -443.276    901.4734  False\n",
      "                        Labels            Pens & Art Supplies    128.6398    1.0   -601.1333     858.413  False\n",
      "                        Labels                   Rubber Bands    -51.5167    1.0  -1028.7356    925.7022  False\n",
      "                        Labels  Scissors, Rulers and Trimmers    427.1218 0.9934     -620.78   1475.0235  False\n",
      "                        Labels         Storage & Organization   1824.6888    0.0   1076.9556   2572.4219   True\n",
      "                        Labels                         Tables   5116.7475    0.0   4305.5461   5927.9489   True\n",
      "                        Labels   Telephones and Communication   2004.3006    0.0    1307.581   2701.0202   True\n",
      "            Office Furnishings                Office Machines   5549.3972    0.0   4881.1235    6217.671   True\n",
      "            Office Furnishings                          Paper   -521.4545 0.0129   -990.3186    -52.5905   True\n",
      "            Office Furnishings            Pens & Art Supplies   -621.9134 0.0096  -1169.9231    -73.9037   True\n",
      "            Office Furnishings                   Rubber Bands   -802.0699 0.0908  -1652.1891     48.0492  False\n",
      "            Office Furnishings  Scissors, Rulers and Trimmers   -323.4315 0.9989  -1253.9388    607.0758  False\n",
      "            Office Furnishings         Storage & Organization   1074.1355    0.0     502.427   1645.8441   True\n",
      "            Office Furnishings                         Tables   4366.1943    0.0   3713.6658   5018.7228   True\n",
      "            Office Furnishings   Telephones and Communication   1253.7474    0.0    750.5934   1756.9014   True\n",
      "               Office Machines                          Paper  -6070.8518    0.0  -6702.4104  -5439.2931   True\n",
      "               Office Machines            Pens & Art Supplies  -6171.3106    0.0  -6863.6599  -5478.9614   True\n",
      "               Office Machines                   Rubber Bands  -6351.4672    0.0  -7301.0647  -5401.8697   True\n",
      "               Office Machines  Scissors, Rulers and Trimmers  -5872.8287    0.0  -6895.0208  -4850.6366   True\n",
      "               Office Machines         Storage & Organization  -4475.2617    0.0  -5186.5166  -3764.0068   True\n",
      "               Office Machines                         Tables   -1183.203    0.0  -1960.9088   -405.4972   True\n",
      "               Office Machines   Telephones and Communication  -4295.6499    0.0  -4953.0666  -3638.2331   True\n",
      "                         Paper            Pens & Art Supplies   -100.4589    1.0   -603.0434    402.1257  False\n",
      "                         Paper                   Rubber Bands   -280.6154 0.9991  -1102.1865    540.9557  False\n",
      "                         Paper  Scissors, Rulers and Trimmers    198.0231    1.0    -706.477   1102.5231  False\n",
      "                         Paper         Storage & Organization   1595.5901    0.0   1067.2652    2123.915   True\n",
      "                         Paper                         Tables   4887.6488    0.0   4272.7748   5502.5228   True\n",
      "                         Paper   Telephones and Communication   1775.2019    0.0   1321.9464   2228.4574   True\n",
      "           Pens & Art Supplies                   Rubber Bands   -180.1565    1.0  -1049.3287    689.0157  False\n",
      "           Pens & Art Supplies  Scissors, Rulers and Trimmers    298.4819 0.9997    -649.464   1246.4279  False\n",
      "           Pens & Art Supplies         Storage & Organization   1696.0489    0.0   1096.3754   2295.7225   True\n",
      "           Pens & Art Supplies                         Tables   4988.1077    0.0   4310.9436   5665.2717   True\n",
      "           Pens & Art Supplies   Telephones and Communication   1875.6608    0.0   1340.9443   2410.3773   True\n",
      "                  Rubber Bands  Scissors, Rulers and Trimmers    478.6385 0.9917   -670.7046   1627.9815  False\n",
      "                  Rubber Bands         Storage & Organization   1876.2055    0.0    991.8999    2760.511   True\n",
      "                  Rubber Bands                         Tables   5168.2642    0.0   4229.6806   6106.8478   True\n",
      "                  Rubber Bands   Telephones and Communication   2055.8173    0.0    1214.206   2897.4286   True\n",
      " Scissors, Rulers and Trimmers         Storage & Organization    1397.567 0.0001    435.7263   2359.4077   True\n",
      " Scissors, Rulers and Trimmers                         Tables   4689.6257    0.0   3677.6572   5701.5943   True\n",
      " Scissors, Rulers and Trimmers   Telephones and Communication   1577.1789    0.0    654.4379   2499.9198   True\n",
      "        Storage & Organization                         Tables   3292.0587    0.0   2595.5767   3988.5407   True\n",
      "        Storage & Organization   Telephones and Communication    179.6118 0.9996   -379.3673     738.591  False\n",
      "                        Tables   Telephones and Communication  -3112.4469    0.0   -3753.852  -2471.0418   True\n",
      "---------------------------------------------------------------------------------------------------------------\n"
     ]
    }
   ],
   "source": [
    "tukey = pairwise_tukeyhsd(endog=salesdf['Sales'],\n",
    "                          groups=salesdf['Product Sub-Category'],\n",
    "                          alpha=0.05)\n",
    "\n",
    "#display results\n",
    "print(tukey)"
   ]
  },
  {
   "cell_type": "markdown",
   "metadata": {},
   "source": [
    "Majority of appliances group row we reject there is a significant difference in means"
   ]
  },
  {
   "cell_type": "code",
   "execution_count": 22,
   "metadata": {},
   "outputs": [
    {
     "name": "stdout",
     "output_type": "stream",
     "text": [
      "        Multiple Comparison of Means - Tukey HSD, FWER=0.05         \n",
      "====================================================================\n",
      "  group1     group2    meandiff  p-adj    lower      upper    reject\n",
      "--------------------------------------------------------------------\n",
      " Jumbo Box Jumbo Drum    155.259 0.9809  -390.8024   701.3205  False\n",
      " Jumbo Box  Large Box  -197.4478 0.9633  -807.2561   412.3605  False\n",
      " Jumbo Box Medium Box -3404.6195    0.0 -4033.0431 -2776.1958   True\n",
      " Jumbo Box  Small Box -4132.5012    0.0  -4557.537 -3707.4654   True\n",
      " Jumbo Box Small Pack -4731.2225    0.0 -5231.7494 -4230.6956   True\n",
      " Jumbo Box   Wrap Bag -5059.4642    0.0 -5543.4782 -4575.4501   True\n",
      "Jumbo Drum  Large Box  -352.7068 0.5734  -942.7367   237.3231  False\n",
      "Jumbo Drum Medium Box -3559.8785    0.0 -4169.1284 -2950.6286   True\n",
      "Jumbo Drum  Small Box -4287.7603    0.0 -4683.8973 -3891.6232   True\n",
      "Jumbo Drum Small Pack -4886.4816    0.0  -5362.713 -4410.2502   True\n",
      "Jumbo Drum   Wrap Bag -5214.7232    0.0 -5673.5682 -4755.8782   True\n",
      " Large Box Medium Box -3207.1717    0.0 -3874.1563 -2540.1871   True\n",
      " Large Box  Small Box -3935.0534    0.0 -4415.2696 -3454.8373   True\n",
      " Large Box Small Pack -4533.7747    0.0 -5081.9347 -3985.6148   True\n",
      " Large Box   Wrap Bag -4862.0164    0.0 -5395.1409 -4328.8919   True\n",
      "Medium Box  Small Box  -727.8817 0.0004 -1231.5262  -224.2373   True\n",
      "Medium Box Small Pack  -1326.603    0.0 -1895.3996  -757.8065   True\n",
      "Medium Box   Wrap Bag -1654.8447    0.0 -2209.1658 -1100.5236   True\n",
      " Small Box Small Pack  -598.7213    0.0  -929.2794  -268.1632   True\n",
      " Small Box   Wrap Bag   -926.963    0.0 -1231.9401  -621.9858   True\n",
      "Small Pack   Wrap Bag  -328.2416 0.1992   -731.829    75.3458  False\n",
      "--------------------------------------------------------------------\n"
     ]
    }
   ],
   "source": [
    "tukey = pairwise_tukeyhsd(endog=salesdf['Sales'],\n",
    "                          groups=salesdf['Product Container'],\n",
    "                          alpha=0.05)\n",
    "\n",
    "#display results\n",
    "print(tukey)"
   ]
  },
  {
   "cell_type": "markdown",
   "metadata": {},
   "source": [
    "we failed to reject row 1,2,7 and last as there is minimal difference in the means"
   ]
  },
  {
   "cell_type": "markdown",
   "metadata": {},
   "source": [
    "## Chi-Squared Tests"
   ]
  },
  {
   "cell_type": "code",
   "execution_count": 23,
   "metadata": {},
   "outputs": [
    {
     "name": "stdout",
     "output_type": "stream",
     "text": [
      "Product Category  Furniture  Office Supplies  Technology\n",
      "Customer Segment                                        \n",
      "Consumer                358              865         426\n",
      "Corporate               633             1680         763\n",
      "Home Office             406             1145         481\n",
      "Small Business          327              920         395\n"
     ]
    }
   ],
   "source": [
    "from scipy.stats import chi2_contingency\n",
    "from scipy.stats import chi2\n",
    "\n",
    "# count of occurences of all combinations of the 2 columns\n",
    "data_crosstab = pd.crosstab(salesdf['Customer Segment'], salesdf['Product Category'], \n",
    "margins = False) \n",
    "print(data_crosstab) \n",
    "\n"
   ]
  },
  {
   "cell_type": "code",
   "execution_count": 24,
   "metadata": {},
   "outputs": [
    {
     "name": "stdout",
     "output_type": "stream",
     "text": [
      "dof=6\n",
      "[[ 338.47791404  905.09465413  405.42743184]\n",
      " [ 631.38754614 1688.33908799  756.27336588]\n",
      " [ 417.09346351 1115.31372782  499.59280867]\n",
      " [ 337.04107632  901.25253006  403.70639362]]\n",
      "significance=0.050, p=0.349\n",
      "Independent (fail to reject H0)\n"
     ]
    }
   ],
   "source": [
    "stat, p, dof, expected = chi2_contingency(data_crosstab)\n",
    "print('dof=%d' % dof)\n",
    "print(expected)\n",
    "\n",
    "# interpret p-value\n",
    "alpha = 0.05\n",
    "print('significance=%.3f, p=%.3f' % (alpha, p))\n",
    "if p <= alpha:\n",
    "    print('Dependent (reject H0)')\n",
    "else:\n",
    "    print('Independent (fail to reject H0)')\n"
   ]
  },
  {
   "cell_type": "code",
   "execution_count": 25,
   "metadata": {},
   "outputs": [
    {
     "name": "stdout",
     "output_type": "stream",
     "text": [
      "Product Category   Furniture  Office Supplies  Technology\n",
      "Product Container                                        \n",
      "Jumbo Box                488                0          44\n",
      "Jumbo Drum               374               75         175\n",
      "Large Box                164              160          82\n",
      "Medium Box               119               89         158\n",
      "Small Box                249             3059        1039\n",
      "Small Pack               210              252         494\n",
      "Wrap Bag                 120              975          73\n",
      "dof=12\n",
      "[[ 109.19966663  292.00142874  130.79890463]\n",
      " [ 128.0838195   342.49791642  153.41826408]\n",
      " [  83.33658769  222.84319562   99.82021669]\n",
      " [  75.12608644  200.88820098   89.98571258]\n",
      " [ 892.27622336 2385.95904274 1068.7647339 ]\n",
      " [ 196.23097988  524.72437195  235.04464817]\n",
      " [ 239.7466365   641.08584355  287.16751994]]\n",
      "significance=0.050, p=0.000\n",
      "Dependent (reject H0)\n"
     ]
    }
   ],
   "source": [
    "data_crosstab = pd.crosstab(salesdf['Product Container'], salesdf['Product Category'], \n",
    "margins = False) \n",
    "print(data_crosstab) \n",
    "\n",
    "stat, p, dof, expected = chi2_contingency(data_crosstab)\n",
    "print('dof=%d' % dof)\n",
    "print(expected)\n",
    "\n",
    "# interpret p-value\n",
    "alpha = 0.05\n",
    "print('significance=%.3f, p=%.3f' % (alpha, p))\n",
    "if p <= alpha:\n",
    "    print('Dependent (reject H0)')\n",
    "else:\n",
    "    print('Independent (fail to reject H0)')\n"
   ]
  },
  {
   "cell_type": "markdown",
   "metadata": {},
   "source": [
    "## t-tests"
   ]
  },
  {
   "cell_type": "code",
   "execution_count": 26,
   "metadata": {},
   "outputs": [
    {
     "data": {
      "text/plain": [
       "Row ID                           int64\n",
       "Order ID                         int64\n",
       "Order Date              datetime64[ns]\n",
       "Order Priority                  object\n",
       "Order Quantity                   int64\n",
       "Sales                          float64\n",
       "Discount                       float64\n",
       "Ship Mode                       object\n",
       "Profit                         float64\n",
       "Unit Price                     float64\n",
       "Shipping Cost                  float64\n",
       "Customer Name                   object\n",
       "Province                        object\n",
       "Region                          object\n",
       "Customer Segment                object\n",
       "Product Category                object\n",
       "Product Sub-Category            object\n",
       "Product Name                    object\n",
       "Product Container               object\n",
       "Product Base Margin            float64\n",
       "Ship Date               datetime64[ns]\n",
       "dtype: object"
      ]
     },
     "execution_count": 26,
     "metadata": {},
     "output_type": "execute_result"
    }
   ],
   "source": [
    "salesdf.dtypes"
   ]
  },
  {
   "cell_type": "code",
   "execution_count": 27,
   "metadata": {},
   "outputs": [
    {
     "name": "stdout",
     "output_type": "stream",
     "text": [
      "['Row ID', 'Order ID', 'Order Quantity', 'Sales', 'Discount', 'Profit', 'Unit Price', 'Shipping Cost', 'Product Base Margin']\n"
     ]
    }
   ],
   "source": [
    "#Extracts the data types of each column and stores them in a dictionary called types_map. \n",
    "#Then select data in numeric format to be kept in a num_columns list. \n",
    "# Allows to have the list of all numerical columns\n",
    "\n",
    "types_map = salesdf.dtypes.to_dict()\n",
    "num_columns = []\n",
    "for k,v in types_map.items():\n",
    "    if np.issubdtype(np.int64, v) or np.issubdtype(np.float64, v):\n",
    "        num_columns.append(k)\n",
    "\n",
    "print(num_columns)\n",
    "\n",
    "\n"
   ]
  },
  {
   "cell_type": "code",
   "execution_count": 28,
   "metadata": {},
   "outputs": [
    {
     "name": "stdout",
     "output_type": "stream",
     "text": [
      "(Sales,Profit) => t-value=nan, p-value=nan\n"
     ]
    }
   ],
   "source": [
    "# independent two-sample t-test \n",
    "# The t-test is used to determine whether there is a significant difference between the means of these two samples.\n",
    "\n",
    "t_val, p_val = stats.ttest_ind(salesdf[num_columns[3]], salesdf[num_columns[8]])\n",
    "print(\"(Sales,Profit) => t-value=%s, p-value=%s\" % (str(t_val), str(p_val)))"
   ]
  },
  {
   "cell_type": "markdown",
   "metadata": {},
   "source": [
    "Nans? \n",
    "\n",
    "Possible that one or both of the samples being compared in the t-test contain missing values (NaNs). As a result, the t-test function (stats.ttest_ind) returns NaN values for the t-value and p-value. Attempt to remove the missing values to see the results. Hence, this highlights the importance of DATA WRANGLING before EDA."
   ]
  },
  {
   "cell_type": "code",
   "execution_count": 29,
   "metadata": {},
   "outputs": [
    {
     "name": "stdout",
     "output_type": "stream",
     "text": [
      "(Sales,Profit) => t-value=45.38446985207996, p-value=0.0\n"
     ]
    }
   ],
   "source": [
    "salesdf[num_columns[3]].fillna(0, inplace=True)  # Fill missing values with 0\n",
    "salesdf[num_columns[8]].fillna(0, inplace=True)\n",
    "\n",
    "t_val, p_val = stats.ttest_ind(salesdf[num_columns[3]], salesdf[num_columns[8]])\n",
    "print(\"(Sales,Profit) => t-value=%s, p-value=%s\" % (str(t_val), str(p_val)))"
   ]
  },
  {
   "cell_type": "markdown",
   "metadata": {},
   "source": [
    "Comparing 'Sales' and 'Profit' could be more appropriately approached using correlation analysis, such as Pearson correlation coefficient, which measures the linear relationship between two continuous variables.\n",
    "\n",
    "Better example here could have been to compare a categorical variable with 2 categories VS Sales. Example, a comparison of gender and sales or if there were 2 categories however, we are limited to the columns available in this dataset. "
   ]
  }
 ],
 "metadata": {
  "kernelspec": {
   "display_name": "Python 3 (ipykernel)",
   "language": "python",
   "name": "python3"
  },
  "language_info": {
   "codemirror_mode": {
    "name": "ipython",
    "version": 3
   },
   "file_extension": ".py",
   "mimetype": "text/x-python",
   "name": "python",
   "nbconvert_exporter": "python",
   "pygments_lexer": "ipython3",
   "version": "3.11.7"
  }
 },
 "nbformat": 4,
 "nbformat_minor": 4
}
