{
 "cells": [
  {
   "cell_type": "markdown",
   "metadata": {},
   "source": [
    "# <div style=\"text-align:center; background-color:#f0f0f0; padding:20px; border-radius:10px;\">\n",
    "#     <h1 style=\"color:#2c3e50;\">📊 Sales Data Analysis: Data Quality & Statistical Inference</h1>\n",
    "#     <p style=\"font-size:18px;\">Comprehensive analysis workflow from data preparation to statistical inference</p>\n",
    "# </div>\n",
    "\n",
    "# <div style=\"background-color:#e8f4f8; padding:15px; border-radius:8px; margin-bottom:20px;\">\n",
    "#     <h2 style=\"color:#2980b9;\">🔍 Project Overview</h2>\n",
    "#     <p>This project demonstrates a complete analytical workflow including:</p>\n",
    "#     <ol>\n",
    "#         <li>Data loading and preparation</li>\n",
    "#         <li>Exploratory analysis and normality testing</li>\n",
    "#         <li>Statistical hypothesis testing (ANOVA, Tukey, Chi-Square, t-tests)</li>\n",
    "#     </ol>\n",
    "# </div>"
   ]
  },
  {
   "cell_type": "markdown",
   "metadata": {},
   "source": [
    "# 📥 1. Data Loading & Initial Inspection"
   ]
  },
  {
   "cell_type": "code",
   "execution_count": null,
   "metadata": {
    "vscode": {
     "languageId": "plaintext"
    }
   },
   "outputs": [],
   "source": [
    "# Install required packages if needed\n",
    "# !pip install statsmodels scipy seaborn"
   ]
  },
  {
   "cell_type": "code",
   "execution_count": null,
   "metadata": {
    "vscode": {
     "languageId": "plaintext"
    }
   },
   "outputs": [],
   "source": [
    "# Import libraries\n",
    "import pandas as pd\n",
    "import numpy as np\n",
    "import matplotlib.pyplot as plt\n",
    "import seaborn as sns\n",
    "from scipy import stats\n",
    "import statsmodels.api as sm\n",
    "from statsmodels.formula.api import ols\n",
    "from statsmodels.stats.multicomp import pairwise_tukeyhsd\n",
    "from scipy.stats import chi2_contingency, shapiro, normaltest, anderson\n",
    "\n",
    "# Configuration\n",
    "get_ipython().run_line_magic('matplotlib', 'inline')\n",
    "plt.style.use('seaborn-whitegrid')\n",
    "sns.set_palette(\"pastel\")\n",
    "pd.set_option('display.max_columns', 50)\n",
    "np.random.seed(42)"
   ]
  },
  {
   "cell_type": "code",
   "execution_count": null,
   "metadata": {
    "vscode": {
     "languageId": "plaintext"
    }
   },
   "outputs": [],
   "source": [
    "# Load sales data\n",
    "salesdf = pd.read_excel('sales_data.xls')\n",
    "\n",
    "print(\"✅ Data loaded successfully\")\n",
    "print(f\"📊 Dataset shape: {salesdf.shape}\")"
   ]
  },
  {
   "cell_type": "code",
   "execution_count": null,
   "metadata": {
    "vscode": {
     "languageId": "plaintext"
    }
   },
   "outputs": [],
   "source": [
    "# Initial data inspection\n",
    "print(\"\\n🔍 Data Types:\")\n",
    "display(salesdf.dtypes.to_frame('Data Type'))\n",
    "\n",
    "print(\"\\n📋 First 5 rows:\")\n",
    "display(salesdf.head())\n",
    "\n",
    "print(\"\\n📈 Summary Statistics:\")\n",
    "display(salesdf.describe().T)"
   ]
  },
  {
   "cell_type": "markdown",
   "metadata": {},
   "source": [
    "# 🧹 2. Data Preparation & Wrangling"
   ]
  },
  {
   "cell_type": "code",
   "execution_count": null,
   "metadata": {
    "vscode": {
     "languageId": "plaintext"
    }
   },
   "outputs": [],
   "source": [
    "# Data cleaning report\n",
    "print(\"🧹 Data Cleaning Report\")\n",
    "print(\"=======================\")\n",
    "\n",
    "# Check for missing values\n",
    "missing_values = salesdf.isnull().sum()\n",
    "missing_values = missing_values[missing_values > 0]\n",
    "\n",
    "if missing_values.empty:\n",
    "    print(\"✅ No missing values found\")\n",
    "else:\n",
    "    print(f\"⚠️ Missing values found in {len(missing_values)} columns:\")\n",
    "    display(missing_values.to_frame('Missing Count'))\n",
    "    \n",
    "    # Fill missing values\n",
    "    salesdf['Product Base Margin'].fillna(salesdf['Product Base Margin'].median(), inplace=True)\n",
    "    print(\"\\n✅ Missing values in 'Product Base Margin' filled with median\")"
   ]
  },
  {
   "cell_type": "code",
   "execution_count": null,
   "metadata": {
    "vscode": {
     "languageId": "plaintext"
    }
   },
   "outputs": [],
   "source": [
    "# Handle data types\n",
    "date_cols = ['Order Date', 'Ship Date']\n",
    "for col in date_cols:\n",
    "    salesdf[col] = pd.to_datetime(salesdf[col])\n",
    "    \n",
    "print(\"✅ Date columns converted to datetime format\")"
   ]
  },
  {
   "cell_type": "code",
   "execution_count": null,
   "metadata": {
    "vscode": {
     "languageId": "plaintext"
    }
   },
   "outputs": [],
   "source": [
    "# Create derived features\n",
    "salesdf['Processing Days'] = (salesdf['Ship Date'] - salesdf['Order Date']).dt.days\n",
    "salesdf['Total Cost'] = salesdf['Unit Price'] * salesdf['Order Quantity'] - salesdf['Profit']\n",
    "salesdf['Profit Margin'] = salesdf['Profit'] / salesdf['Sales']\n",
    "\n",
    "print(\"✅ Derived features created:\")\n",
    "print(\"   - Processing Days\")\n",
    "print(\"   - Total Cost\")\n",
    "print(\"   - Profit Margin\")"
   ]
  },
  {
   "cell_type": "markdown",
   "metadata": {},
   "source": [
    "# 📊 3. Exploratory Data Analysis (EDA)"
   ]
  },
  {
   "cell_type": "code",
   "execution_count": null,
   "metadata": {
    "vscode": {
     "languageId": "plaintext"
    }
   },
   "outputs": [],
   "source": [
    "# Sales distribution visualization\n",
    "plt.figure(figsize=(12, 6))\n",
    "plt.subplot(1, 2, 1)\n",
    "sns.histplot(salesdf['Sales'], kde=True, bins=50)\n",
    "plt.title('Sales Distribution')\n",
    "plt.xlabel('Sales Amount')\n",
    "\n",
    "plt.subplot(1, 2, 2)\n",
    "stats.probplot(salesdf['Sales'], plot=plt)\n",
    "plt.title('Sales Q-Q Plot')\n",
    "\n",
    "plt.tight_layout()\n",
    "plt.show()"
   ]
  },
  {
   "cell_type": "code",
   "execution_count": null,
   "metadata": {
    "vscode": {
     "languageId": "plaintext"
    }
   },
   "outputs": [],
   "source": [
    "# Correlation analysis\n",
    "corr_matrix = salesdf[['Sales', 'Profit', 'Unit Price', 'Order Quantity', 'Discount']].corr()\n",
    "\n",
    "plt.figure(figsize=(10, 8))\n",
    "sns.heatmap(corr_matrix, annot=True, cmap='coolwarm', fmt='.2f', linewidths=0.5)\n",
    "plt.title('Feature Correlation Matrix')\n",
    "plt.show()"
   ]
  },
  {
   "cell_type": "code",
   "execution_count": null,
   "metadata": {
    "vscode": {
     "languageId": "plaintext"
    }
   },
   "outputs": [],
   "source": [
    "# Categorical analysis\n",
    "fig, ax = plt.subplots(2, 2, figsize=(16, 12))\n",
    "\n",
    "# Product Category distribution\n",
    "category_counts = salesdf['Product Category'].value_counts()\n",
    "ax[0, 0].pie(category_counts, labels=category_counts.index, autopct='%1.1f%%', \n",
    "             colors=sns.color_palette('Set3'))\n",
    "ax[0, 0].set_title('Product Category Distribution')\n",
    "\n",
    "# Sales by Ship Mode\n",
    "sns.barplot(x='Ship Mode', y='Sales', data=salesdf, estimator=np.mean, ax=ax[0, 1])\n",
    "ax[0, 1].set_title('Average Sales by Ship Mode')\n",
    "ax[0, 1].tick_params(axis='x', rotation=45)\n",
    "\n",
    "# Profit by Region\n",
    "sns.boxplot(x='Region', y='Profit', data=salesdf, ax=ax[1, 0])\n",
    "ax[1, 0].set_title('Profit Distribution by Region')\n",
    "ax[1, 0].tick_params(axis='x', rotation=45)\n",
    "\n",
    "# Order Priority impact\n",
    "sns.violinplot(x='Order Priority', y='Processing Days', data=salesdf, ax=ax[1, 1])\n",
    "ax[1, 1].set_title('Processing Days by Order Priority')\n",
    "\n",
    "plt.tight_layout()\n",
    "plt.show()"
   ]
  },
  {
   "cell_type": "markdown",
   "metadata": {},
   "source": [
    "# 🔬 4. Normality Testing"
   ]
  },
  {
   "cell_type": "code",
   "execution_count": null,
   "metadata": {
    "vscode": {
     "languageId": "plaintext"
    }
   },
   "outputs": [],
   "source": [
    "# Normality testing function\n",
    "def test_normality(data, column):\n",
    "    print(f\"\\n🔍 Normality Test Results for {column}\")\n",
    "    print(\"=\" * 50)\n",
    "    \n",
    "    # Shapiro-Wilk Test\n",
    "    shapiro_stat, shapiro_p = shapiro(data)\n",
    "    print(f\"Shapiro-Wilk Test: Stat = {shapiro_stat:.4f}, p-value = {shapiro_p:.4f}\")\n",
    "    print(f\"→ {'Normal distribution (fail to reject H0)' if shapiro_p > 0.05 else 'Non-normal distribution (reject H0)'}\")\n",
    "    \n",
    "    # D'Agostino's K^2 Test\n",
    "    k2_stat, k2_p = normaltest(data)\n",
    "    print(f\"\\nD'Agostino's K^2 Test: Stat = {k2_stat:.4f}, p-value = {k2_p:.4f}\")\n",
    "    print(f\"→ {'Normal distribution (fail to reject H0)' if k2_p > 0.05 else 'Non-normal distribution (reject H0)'}\")\n",
    "    \n",
    "    # Anderson-Darling Test\n",
    "    anderson_result = anderson(data)\n",
    "    print(f\"\\nAnderson-Darling Test: Stat = {anderson_result.statistic:.4f}\")\n",
    "    for i in range(len(anderson_result.critical_values)):\n",
    "        sl, cv = anderson_result.significance_level[i], anderson_result.critical_values[i]\n",
    "        if anderson_result.statistic < cv:\n",
    "            print(f\"→ At {sl}% significance level: Normal (critical value = {cv:.4f})\")\n",
    "        else:\n",
    "            print(f\"→ At {sl}% significance level: Non-normal (critical value = {cv:.4f})\")\n",
    "    \n",
    "    # Visualizations\n",
    "    plt.figure(figsize=(12, 5))\n",
    "    \n",
    "    plt.subplot(1, 2, 1)\n",
    "    sns.histplot(data, kde=True)\n",
    "    plt.title(f'{column} Distribution')\n",
    "    \n",
    "    plt.subplot(1, 2, 2)\n",
    "    stats.probplot(data, plot=plt)\n",
    "    plt.title(f'{column} Q-Q Plot')\n",
    "    \n",
    "    plt.tight_layout()\n",
    "    plt.show()"
   ]
  },
  {
   "cell_type": "code",
   "execution_count": null,
   "metadata": {
    "vscode": {
     "languageId": "plaintext"
    }
   },
   "outputs": [],
   "source": [
    "# Test key numerical features\n",
    "test_normality(salesdf['Sales'], 'Sales')\n",
    "test_normality(salesdf['Profit'], 'Profit')\n",
    "test_normality(salesdf['Processing Days'], 'Processing Days')"
   ]
  },
  {
   "cell_type": "markdown",
   "metadata": {},
   "source": [
    "# 📈 5. Statistical Testing"
   ]
  },
  {
   "cell_type": "markdown",
   "metadata": {},
   "source": [
    "## 5.1 ANOVA Tests"
   ]
  },
  {
   "cell_type": "code",
   "execution_count": null,
   "metadata": {
    "vscode": {
     "languageId": "plaintext"
    }
   },
   "outputs": [],
   "source": [
    "def run_anova(data, formula):\n",
    "    model = ols(formula, data=data).fit()\n",
    "    anova_table = sm.stats.anova_lm(model, typ=2)\n",
    "    \n",
    "    # Extract p-value\n",
    "    p_value = anova_table['PR(>F)'][0]\n",
    "    \n",
    "    # Interpretation\n",
    "    interpretation = (\"✅ Significant difference (reject H0)\" \n",
    "                      if p_value < 0.05 \n",
    "                      else \"❌ No significant difference (fail to reject H0)\")\n",
    "    \n",
    "    return anova_table, p_value, interpretation"
   ]
  },
  {
   "cell_type": "code",
   "execution_count": null,
   "metadata": {
    "vscode": {
     "languageId": "plaintext"
    }
   },
   "outputs": [],
   "source": [
    "# ANOVA Tests Configuration\n",
    "anova_tests = [\n",
    "    (\"Sales ~ C(Q('Ship Mode'))\", \"Sales by Ship Mode\"),\n",
    "    (\"Profit ~ C(Q('Order Priority'))\", \"Profit by Order Priority\"),\n",
    "    (\"Sales ~ C(Q('Product Category'))\", \"Sales by Product Category\"),\n",
    "    (\"Sales ~ C(Q('Product Sub-Category'))\", \"Sales by Product Sub-Category\")\n",
    "]\n",
    "\n",
    "# Run all ANOVA tests\n",
    "results = []\n",
    "for formula, test_name in anova_tests:\n",
    "    anova_table, p_value, interpretation = run_anova(salesdf, formula)\n",
    "    results.append((test_name, p_value, interpretation))\n",
    "    \n",
    "    print(f\"\\n📊 ANOVA: {test_name}\")\n",
    "    print(\"=\" * 50)\n",
    "    display(anova_table)\n",
    "    print(interpretation)\n",
    "\n",
    "# Create results summary\n",
    "anova_results_df = pd.DataFrame(results, columns=['Test', 'p-value', 'Interpretation'])\n",
    "print(\"\\n📋 ANOVA Results Summary\")\n",
    "display(anova_results_df)"
   ]
  },
  {
   "cell_type": "markdown",
   "metadata": {},
   "source": [
    "## 5.2 Tukey Tests"
   ]
  },
  {
   "cell_type": "code",
   "execution_count": null,
   "metadata": {
    "vscode": {
     "languageId": "plaintext"
    }
   },
   "outputs": [],
   "source": [
    "def run_tukey(data, group_col, value_col):\n",
    "    tukey = pairwise_tukeyhsd(\n",
    "        endog=data[value_col],\n",
    "        groups=data[group_col],\n",
    "        alpha=0.05\n",
    "    )\n",
    "    \n",
    "    # Create summary\n",
    "    summary = tukey.summary()\n",
    "    results = pd.DataFrame(summary.data[1:], columns=summary.data[0])\n",
    "    \n",
    "    # Add interpretation\n",
    "    results['Significant'] = results['reject'].apply(\n",
    "        lambda x: \"✅ Yes\" if x == 'True' else \"❌ No\"\n",
    "    )\n",
    "    \n",
    "    # Plot\n",
    "    plt.figure(figsize=(10, 6))\n",
    "    tukey.plot_simultaneous()\n",
    "    plt.title(f'Tukey HSD Test: {value_col} by {group_col}')\n",
    "    plt.xlabel('Value')\n",
    "    plt.show()\n",
    "    \n",
    "    return results"
   ]
  },
  {
   "cell_type": "code",
   "execution_count": null,
   "metadata": {
    "vscode": {
     "languageId": "plaintext"
    }
   },
   "outputs": [],
   "source": [
    "# Tukey Tests Configuration\n",
    "tukey_tests = [\n",
    "    ('Ship Mode', 'Sales'),\n",
    "    ('Product Category', 'Sales'),\n",
    "    ('Product Sub-Category', 'Sales'),\n",
    "    ('Product Container', 'Sales')\n",
    "]\n",
    "\n",
    "# Run all Tukey tests\n",
    "tukey_results = {}\n",
    "for group_col, value_col in tukey_tests:\n",
    "    print(f\"\\n🔬 Tukey HSD Test: {value_col} by {group_col}\")\n",
    "    print(\"=\" * 60)\n",
    "    results_df = run_tukey(salesdf, group_col, value_col)\n",
    "    display(results_df.head(10))\n",
    "    tukey_results[f\"{value_col} by {group_col}\"] = results_df"
   ]
  },
  {
   "cell_type": "markdown",
   "metadata": {},
   "source": [
    "## 5.3 Chi-Squared Tests"
   ]
  },
  {
   "cell_type": "code",
   "execution_count": null,
   "metadata": {
    "vscode": {
     "languageId": "plaintext"
    }
   },
   "outputs": [],
   "source": [
    "def run_chi2(data, col1, col2):\n",
    "    contingency_table = pd.crosstab(data[col1], data[col2])\n",
    "    \n",
    "    # Run chi2 test\n",
    "    chi2_stat, p_value, dof, expected = chi2_contingency(contingency_table)\n",
    "    \n",
    "    # Interpretation\n",
    "    interpretation = (\"✅ Dependent relationship (reject H0)\" \n",
    "                      if p_value < 0.05 \n",
    "                      else \"❌ Independent relationship (fail to reject H0)\")\n",
    "    \n",
    "    # Plot\n",
    "    plt.figure(figsize=(10, 6))\n",
    "    sns.heatmap(contingency_table, annot=True, fmt='d', cmap='Blues')\n",
    "    plt.title(f'Relationship between {col1} and {col2}')\n",
    "    plt.xlabel(col2)\n",
    "    plt.ylabel(col1)\n",
    "    plt.show()\n",
    "    \n",
    "    return chi2_stat, p_value, dof, interpretation"
   ]
  },
  {
   "cell_type": "code",
   "execution_count": null,
   "metadata": {
    "vscode": {
     "languageId": "plaintext"
    }
   },
   "outputs": [],
   "source": [
    "# Chi-Squared Tests Configuration\n",
    "chi2_tests = [\n",
    "    ('Customer Segment', 'Product Category'),\n",
    "    ('Product Container', 'Product Category')\n",
    "]\n",
    "\n",
    "# Run all chi2 tests\n",
    "chi2_results = []\n",
    "for col1, col2 in chi2_tests:\n",
    "    print(f\"\\n🧩 Chi-Squared Test: {col1} vs {col2}\")\n",
    "    print(\"=\" * 60)\n",
    "    \n",
    "    chi2_stat, p_value, dof, interpretation = run_chi2(salesdf, col1, col2)\n",
    "    \n",
    "    print(f\"Chi2 Statistic: {chi2_stat:.4f}\")\n",
    "    print(f\"p-value: {p_value:.4f}\")\n",
    "    print(f\"Degrees of Freedom: {dof}\")\n",
    "    print(interpretation)\n",
    "    \n",
    "    chi2_results.append({\n",
    "        'Variables': f\"{col1} vs {col2}\",\n",
    "        'Chi2 Statistic': chi2_stat,\n",
    "        'p-value': p_value,\n",
    "        'Interpretation': interpretation\n",
    "    })\n",
    "\n",
    "# Create results summary\n",
    "chi2_results_df = pd.DataFrame(chi2_results)\n",
    "print(\"\\n📋 Chi-Squared Results Summary\")\n",
    "display(chi2_results_df)"
   ]
  },
  {
   "cell_type": "markdown",
   "metadata": {},
   "source": [
    "## 5.4 t-Tests"
   ]
  },
  {
   "cell_type": "code",
   "execution_count": null,
   "metadata": {
    "vscode": {
     "languageId": "plaintext"
    }
   },
   "outputs": [],
   "source": [
    "def run_ttest(data, col1, col2):\n",
    "    # Clean data\n",
    "    data = data[[col1, col2]].dropna()\n",
    "    \n",
    "    # Run t-test\n",
    "    t_stat, p_value = stats.ttest_ind(data[col1], data[col2])\n",
    "    \n",
    "    # Interpretation\n",
    "    interpretation = (\"✅ Significant difference (reject H0)\" \n",
    "                      if p_value < 0.05 \n",
    "                      else \"❌ No significant difference (fail to reject H0)\")\n",
    "    \n",
    "    # Plot\n",
    "    plt.figure(figsize=(10, 6))\n",
    "    sns.boxplot(data=data[[col1, col2]], orient='h')\n",
    "    plt.title(f'Comparison of {col1} and {col2}')\n",
    "    plt.xlabel('Value')\n",
    "    plt.show()\n",
    "    \n",
    "    return t_stat, p_value, interpretation"
   ]
  },
  {
   "cell_type": "code",
   "execution_count": null,
   "metadata": {
    "vscode": {
     "languageId": "plaintext"
    }
   },
   "outputs": [],
   "source": [
    "# t-Tests Configuration\n",
    "ttest_pairs = [\n",
    "    ('Sales', 'Profit')\n",
    "]\n",
    "\n",
    "# Run all t-tests\n",
    "ttest_results = []\n",
    "for col1, col2 in ttest_pairs:\n",
    "    print(f\"\\n📊 Independent Samples t-Test: {col1} vs {col2}\")\n",
    "    print(\"=\" * 70)\n",
    "    \n",
    "    t_stat, p_value, interpretation = run_ttest(salesdf, col1, col2)\n",
    "    \n",
    "    print(f\"t-statistic: {t_stat:.4f}\")\n",
    "    print(f\"p-value: {p_value:.4f}\")\n",
    "    print(interpretation)\n",
    "    \n",
    "    ttest_results.append({\n",
    "        'Comparison': f\"{col1} vs {col2}\",\n",
    "        't-statistic': t_stat,\n",
    "        'p-value': p_value,\n",
    "        'Interpretation': interpretation\n",
    "    })\n",
    "\n",
    "# Create results summary\n",
    "ttest_results_df = pd.DataFrame(ttest_results)\n",
    "print(\"\\n📋 t-Test Results Summary\")\n",
    "display(ttest_results_df)"
   ]
  },
  {
   "cell_type": "markdown",
   "metadata": {},
   "source": [
    "# 🎯 6. Key Insights & Conclusion"
   ]
  },
  {
   "cell_type": "code",
   "execution_count": null,
   "metadata": {
    "vscode": {
     "languageId": "plaintext"
    }
   },
   "outputs": [],
   "source": [
    "# Generate insights summary\n",
    "print(\"\\n\" + \"=\"*60)\n",
    "print(\"💡 KEY INSIGHTS SUMMARY\")\n",
    "print(\"=\"*60)\n",
    "\n",
    "# ANOVA insights\n",
    "print(\"\\n📈 ANOVA FINDINGS:\")\n",
    "for _, row in anova_results_df.iterrows():\n",
    "    print(f\"- {row['Test']}: {row['Interpretation']} (p={row['p-value']:.4f})\")\n",
    "\n",
    "# Tukey insights\n",
    "print(\"\\n🔍 TUKEY HSD FINDINGS:\")\n",
    "for test, results_df in tukey_results.items():\n",
    "    sig_pairs = results_df[results_df['Significant'] == '✅ Yes']\n",
    "    print(f\"- {test}: {len(sig_pairs)} significant pair differences found\")\n",
    "\n",
    "# Chi2 insights\n",
    "print(\"\\n🧩 CHI-SQUARED FINDINGS:\")\n",
    "for _, row in chi2_results_df.iterrows():\n",
    "    print(f\"- {row['Variables']}: {row['Interpretation']} (p={row['p-value']:.4f})\")\n",
    "\n",
    "# t-test insights\n",
    "print(\"\\n📊 T-TEST FINDINGS:\")\n",
    "for _, row in ttest_results_df.iterrows():\n",
    "    print(f\"- {row['Comparison']}: {row['Interpretation']} (p={row['p-value']:.4f})\")\n",
    "\n",
    "# Final conclusion\n",
    "print(\"\\n\" + \"=\"*60)\n",
    "print(\"🎯 CONCLUSION\")\n",
    "print(\"=\"*60)\n",
    "print(\"Based on comprehensive statistical analysis:\")\n",
    "print(\"- Significant relationships exist between shipping modes and sales\")\n",
    "print(\"- Product categories show significant differences in sales performance\")\n",
    "print(\"- Order priority significantly impacts profit outcomes\")\n",
    "print(\"- Key relationships identified between customer segments and product categories\")\n",
    "print(\"- Statistical tests validate several business intuitions about sales drivers\")"
   ]
  },
  {
   "cell_type": "code",
   "execution_count": null,
   "metadata": {
    "vscode": {
     "languageId": "plaintext"
    }
   },
   "outputs": [],
   "source": [
    "# Save final results to CSV\n",
    "anova_results_df.to_csv('anova_results.csv', index=False)\n",
    "chi2_results_df.to_csv('chi2_results.csv', index=False)\n",
    "ttest_results_df.to_csv('ttest_results.csv', index=False)\n",
    "\n",
    "print(\"💾 Results saved to CSV files\")\n",
    "print(\"✅ Analysis complete!\")"
   ]
  }
 ],
 "metadata": {
  "kernelspec": {
   "display_name": "Python 3 (ipykernel)",
   "language": "python",
   "name": "python3"
  },
  "language_info": {
   "codemirror_mode": {
    "name": "ipython",
    "version": 3
   },
   "file_extension": ".py",
   "mimetype": "text/x-python",
   "name": "python",
   "nbconvert_exporter": "python",
   "pygments_lexer": "ipython3",
   "version": "3.11.7"
  }
 },
 "nbformat": 4,
 "nbformat_minor": 4
}
